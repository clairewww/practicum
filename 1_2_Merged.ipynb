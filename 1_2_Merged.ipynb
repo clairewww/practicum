{
 "cells": [
  {
   "cell_type": "code",
   "execution_count": 1,
   "metadata": {
    "scrolled": true,
    "slideshow": {
     "slide_type": "skip"
    }
   },
   "outputs": [
    {
     "name": "stdout",
     "output_type": "stream",
     "text": [
      "Populating the interactive namespace from numpy and matplotlib\n"
     ]
    }
   ],
   "source": [
    "%pylab inline\n",
    "import pandas as pd"
   ]
  },
  {
   "cell_type": "code",
   "execution_count": 2,
   "metadata": {
    "slideshow": {
     "slide_type": "skip"
    }
   },
   "outputs": [],
   "source": [
    "import warnings\n",
    "warnings.filterwarnings('ignore')"
   ]
  },
  {
   "cell_type": "markdown",
   "metadata": {
    "slideshow": {
     "slide_type": "slide"
    }
   },
   "source": [
    "# Compustat"
   ]
  },
  {
   "cell_type": "code",
   "execution_count": 3,
   "metadata": {
    "scrolled": true,
    "slideshow": {
     "slide_type": "slide"
    }
   },
   "outputs": [],
   "source": [
    "compa = pd.read_csv(\"compa_funda_test_select_var.csv\")"
   ]
  },
  {
   "cell_type": "code",
   "execution_count": 3,
   "metadata": {
    "scrolled": true,
    "slideshow": {
     "slide_type": "fragment"
    }
   },
   "outputs": [
    {
     "data": {
      "text/html": [
       "<div>\n",
       "<style scoped>\n",
       "    .dataframe tbody tr th:only-of-type {\n",
       "        vertical-align: middle;\n",
       "    }\n",
       "\n",
       "    .dataframe tbody tr th {\n",
       "        vertical-align: top;\n",
       "    }\n",
       "\n",
       "    .dataframe thead th {\n",
       "        text-align: right;\n",
       "    }\n",
       "</style>\n",
       "<table border=\"1\" class=\"dataframe\">\n",
       "  <thead>\n",
       "    <tr style=\"text-align: right;\">\n",
       "      <th></th>\n",
       "      <th>gvkey</th>\n",
       "      <th>fyear</th>\n",
       "      <th>datadate</th>\n",
       "      <th>cusip</th>\n",
       "      <th>conm</th>\n",
       "      <th>fyr</th>\n",
       "      <th>aqc</th>\n",
       "      <th>at</th>\n",
       "      <th>capx</th>\n",
       "      <th>ceq</th>\n",
       "      <th>...</th>\n",
       "      <th>prcc_f</th>\n",
       "      <th>au</th>\n",
       "      <th>ggroup</th>\n",
       "      <th>gind</th>\n",
       "      <th>gsector</th>\n",
       "      <th>gsubind</th>\n",
       "      <th>incorp</th>\n",
       "      <th>state</th>\n",
       "      <th>county</th>\n",
       "      <th>addzip</th>\n",
       "    </tr>\n",
       "  </thead>\n",
       "  <tbody>\n",
       "    <tr>\n",
       "      <th>0</th>\n",
       "      <td>1004</td>\n",
       "      <td>2012.0</td>\n",
       "      <td>05/31/2013</td>\n",
       "      <td>000361105</td>\n",
       "      <td>AAR CORP</td>\n",
       "      <td>5.0</td>\n",
       "      <td>21.3</td>\n",
       "      <td>2136.9</td>\n",
       "      <td>37.6</td>\n",
       "      <td>918.6</td>\n",
       "      <td>...</td>\n",
       "      <td>20.06</td>\n",
       "      <td>6.0</td>\n",
       "      <td>2010.0</td>\n",
       "      <td>201010.0</td>\n",
       "      <td>20.0</td>\n",
       "      <td>20101010.0</td>\n",
       "      <td>DE</td>\n",
       "      <td>IL</td>\n",
       "      <td>NaN</td>\n",
       "      <td>60191</td>\n",
       "    </tr>\n",
       "    <tr>\n",
       "      <th>1</th>\n",
       "      <td>1004</td>\n",
       "      <td>2013.0</td>\n",
       "      <td>05/31/2014</td>\n",
       "      <td>000361105</td>\n",
       "      <td>AAR CORP</td>\n",
       "      <td>5.0</td>\n",
       "      <td>15.3</td>\n",
       "      <td>2199.5</td>\n",
       "      <td>26.5</td>\n",
       "      <td>999.5</td>\n",
       "      <td>...</td>\n",
       "      <td>24.30</td>\n",
       "      <td>6.0</td>\n",
       "      <td>2010.0</td>\n",
       "      <td>201010.0</td>\n",
       "      <td>20.0</td>\n",
       "      <td>20101010.0</td>\n",
       "      <td>DE</td>\n",
       "      <td>IL</td>\n",
       "      <td>NaN</td>\n",
       "      <td>60191</td>\n",
       "    </tr>\n",
       "    <tr>\n",
       "      <th>2</th>\n",
       "      <td>1004</td>\n",
       "      <td>2014.0</td>\n",
       "      <td>05/31/2015</td>\n",
       "      <td>000361105</td>\n",
       "      <td>AAR CORP</td>\n",
       "      <td>5.0</td>\n",
       "      <td>1.0</td>\n",
       "      <td>1515.0</td>\n",
       "      <td>46.3</td>\n",
       "      <td>845.1</td>\n",
       "      <td>...</td>\n",
       "      <td>29.54</td>\n",
       "      <td>6.0</td>\n",
       "      <td>2010.0</td>\n",
       "      <td>201010.0</td>\n",
       "      <td>20.0</td>\n",
       "      <td>20101010.0</td>\n",
       "      <td>DE</td>\n",
       "      <td>IL</td>\n",
       "      <td>NaN</td>\n",
       "      <td>60191</td>\n",
       "    </tr>\n",
       "    <tr>\n",
       "      <th>3</th>\n",
       "      <td>1004</td>\n",
       "      <td>2015.0</td>\n",
       "      <td>05/31/2016</td>\n",
       "      <td>000361105</td>\n",
       "      <td>AAR CORP</td>\n",
       "      <td>5.0</td>\n",
       "      <td>0.0</td>\n",
       "      <td>1442.1</td>\n",
       "      <td>88.4</td>\n",
       "      <td>865.8</td>\n",
       "      <td>...</td>\n",
       "      <td>24.41</td>\n",
       "      <td>6.0</td>\n",
       "      <td>2010.0</td>\n",
       "      <td>201010.0</td>\n",
       "      <td>20.0</td>\n",
       "      <td>20101010.0</td>\n",
       "      <td>DE</td>\n",
       "      <td>IL</td>\n",
       "      <td>NaN</td>\n",
       "      <td>60191</td>\n",
       "    </tr>\n",
       "    <tr>\n",
       "      <th>4</th>\n",
       "      <td>1004</td>\n",
       "      <td>2016.0</td>\n",
       "      <td>05/31/2017</td>\n",
       "      <td>000361105</td>\n",
       "      <td>AAR CORP</td>\n",
       "      <td>5.0</td>\n",
       "      <td>12.5</td>\n",
       "      <td>1504.1</td>\n",
       "      <td>33.6</td>\n",
       "      <td>914.2</td>\n",
       "      <td>...</td>\n",
       "      <td>34.94</td>\n",
       "      <td>6.0</td>\n",
       "      <td>2010.0</td>\n",
       "      <td>201010.0</td>\n",
       "      <td>20.0</td>\n",
       "      <td>20101010.0</td>\n",
       "      <td>DE</td>\n",
       "      <td>IL</td>\n",
       "      <td>NaN</td>\n",
       "      <td>60191</td>\n",
       "    </tr>\n",
       "  </tbody>\n",
       "</table>\n",
       "<p>5 rows × 40 columns</p>\n",
       "</div>"
      ],
      "text/plain": [
       "   gvkey   fyear    datadate      cusip      conm  fyr   aqc      at  capx  \\\n",
       "0   1004  2012.0  05/31/2013  000361105  AAR CORP  5.0  21.3  2136.9  37.6   \n",
       "1   1004  2013.0  05/31/2014  000361105  AAR CORP  5.0  15.3  2199.5  26.5   \n",
       "2   1004  2014.0  05/31/2015  000361105  AAR CORP  5.0   1.0  1515.0  46.3   \n",
       "3   1004  2015.0  05/31/2016  000361105  AAR CORP  5.0   0.0  1442.1  88.4   \n",
       "4   1004  2016.0  05/31/2017  000361105  AAR CORP  5.0  12.5  1504.1  33.6   \n",
       "\n",
       "     ceq   ...    prcc_f   au  ggroup      gind  gsector     gsubind  incorp  \\\n",
       "0  918.6   ...     20.06  6.0  2010.0  201010.0     20.0  20101010.0      DE   \n",
       "1  999.5   ...     24.30  6.0  2010.0  201010.0     20.0  20101010.0      DE   \n",
       "2  845.1   ...     29.54  6.0  2010.0  201010.0     20.0  20101010.0      DE   \n",
       "3  865.8   ...     24.41  6.0  2010.0  201010.0     20.0  20101010.0      DE   \n",
       "4  914.2   ...     34.94  6.0  2010.0  201010.0     20.0  20101010.0      DE   \n",
       "\n",
       "   state  county  addzip  \n",
       "0     IL     NaN   60191  \n",
       "1     IL     NaN   60191  \n",
       "2     IL     NaN   60191  \n",
       "3     IL     NaN   60191  \n",
       "4     IL     NaN   60191  \n",
       "\n",
       "[5 rows x 40 columns]"
      ]
     },
     "execution_count": 3,
     "metadata": {},
     "output_type": "execute_result"
    }
   ],
   "source": [
    "compa.head()"
   ]
  },
  {
   "cell_type": "code",
   "execution_count": 6,
   "metadata": {
    "slideshow": {
     "slide_type": "fragment"
    }
   },
   "outputs": [
    {
     "data": {
      "text/plain": [
       "(63416, 41)"
      ]
     },
     "execution_count": 6,
     "metadata": {},
     "output_type": "execute_result"
    }
   ],
   "source": [
    "compa.shape"
   ]
  },
  {
   "cell_type": "code",
   "execution_count": 22,
   "metadata": {
    "slideshow": {
     "slide_type": "fragment"
    }
   },
   "outputs": [
    {
     "data": {
      "text/plain": [
       "array([2012., 2013., 2014., 2015., 2016., 2017., 2018.])"
      ]
     },
     "execution_count": 22,
     "metadata": {},
     "output_type": "execute_result"
    }
   ],
   "source": [
    "compa.fyear.unique()"
   ]
  },
  {
   "cell_type": "code",
   "execution_count": 63,
   "metadata": {
    "collapsed": true,
    "slideshow": {
     "slide_type": "skip"
    }
   },
   "outputs": [
    {
     "name": "stdout",
     "output_type": "stream",
     "text": [
      "<class 'pandas.core.frame.DataFrame'>\n",
      "Int64Index: 63416 entries, 0 to 63466\n",
      "Data columns (total 40 columns):\n",
      "gvkey       63416 non-null int64\n",
      "fyear       63416 non-null float64\n",
      "datadate    63416 non-null datetime64[ns]\n",
      "cusip       63381 non-null object\n",
      "conm        63416 non-null object\n",
      "fyr         63416 non-null float64\n",
      "aqc         42234 non-null float64\n",
      "at          49673 non-null float64\n",
      "capx        43262 non-null float64\n",
      "ceq         49540 non-null float64\n",
      "che         43849 non-null float64\n",
      "csho        55917 non-null float64\n",
      "dlc         49421 non-null float64\n",
      "dltt        49532 non-null float64\n",
      "dp          47155 non-null float64\n",
      "dvc         48749 non-null float64\n",
      "dvp         49417 non-null float64\n",
      "emp         41100 non-null float64\n",
      "ib          49459 non-null float64\n",
      "ppent       48136 non-null float64\n",
      "sale        43641 non-null float64\n",
      "seq         49672 non-null float64\n",
      "txdb        47889 non-null float64\n",
      "xad         13892 non-null float64\n",
      "xlr         17361 non-null float64\n",
      "xrd         19197 non-null float64\n",
      "xsga        36461 non-null float64\n",
      "cik         47128 non-null float64\n",
      "naicsh      43798 non-null float64\n",
      "sich        41504 non-null float64\n",
      "prcc_f      58313 non-null float64\n",
      "au          49388 non-null float64\n",
      "ggroup      49770 non-null float64\n",
      "gind        49770 non-null float64\n",
      "gsector     49770 non-null float64\n",
      "gsubind     49770 non-null float64\n",
      "incorp      45156 non-null object\n",
      "state       57183 non-null object\n",
      "county      5 non-null object\n",
      "addzip      62747 non-null object\n",
      "dtypes: datetime64[ns](1), float64(32), int64(1), object(6)\n",
      "memory usage: 19.8+ MB\n"
     ]
    }
   ],
   "source": [
    "compa.info()"
   ]
  },
  {
   "cell_type": "code",
   "execution_count": 5,
   "metadata": {
    "slideshow": {
     "slide_type": "skip"
    }
   },
   "outputs": [],
   "source": [
    "compa = compa[~compa.fyear.isna()]"
   ]
  },
  {
   "cell_type": "code",
   "execution_count": 4,
   "metadata": {
    "scrolled": true,
    "slideshow": {
     "slide_type": "slide"
    }
   },
   "outputs": [],
   "source": [
    "compa.datadate = pd.DatetimeIndex(compa.datadate)\n",
    "from dateutil.relativedelta import relativedelta\n",
    "compa['end_date'] = compa.datadate.dt.date + relativedelta(years=1)"
   ]
  },
  {
   "cell_type": "markdown",
   "metadata": {
    "slideshow": {
     "slide_type": "slide"
    }
   },
   "source": [
    "# 2012 - 2016"
   ]
  },
  {
   "cell_type": "code",
   "execution_count": 2,
   "metadata": {
    "slideshow": {
     "slide_type": "slide"
    }
   },
   "outputs": [],
   "source": [
    "f13_1216= pd.read_csv('extracted13D_2012_2016.csv')"
   ]
  },
  {
   "cell_type": "code",
   "execution_count": 8,
   "metadata": {
    "slideshow": {
     "slide_type": "fragment"
    }
   },
   "outputs": [
    {
     "data": {
      "text/plain": [
       "(14685, 8)"
      ]
     },
     "execution_count": 8,
     "metadata": {},
     "output_type": "execute_result"
    }
   ],
   "source": [
    "f13_1216.shape"
   ]
  },
  {
   "cell_type": "code",
   "execution_count": 9,
   "metadata": {
    "scrolled": false,
    "slideshow": {
     "slide_type": "fragment"
    }
   },
   "outputs": [
    {
     "data": {
      "text/html": [
       "<div>\n",
       "<style scoped>\n",
       "    .dataframe tbody tr th:only-of-type {\n",
       "        vertical-align: middle;\n",
       "    }\n",
       "\n",
       "    .dataframe tbody tr th {\n",
       "        vertical-align: top;\n",
       "    }\n",
       "\n",
       "    .dataframe thead th {\n",
       "        text-align: right;\n",
       "    }\n",
       "</style>\n",
       "<table border=\"1\" class=\"dataframe\">\n",
       "  <thead>\n",
       "    <tr style=\"text-align: right;\">\n",
       "      <th></th>\n",
       "      <th>CIK</th>\n",
       "      <th>Company Name</th>\n",
       "      <th>Form Type</th>\n",
       "      <th>Date Filed</th>\n",
       "      <th>Filename</th>\n",
       "      <th>Year</th>\n",
       "      <th>CIK_target</th>\n",
       "      <th>Target</th>\n",
       "    </tr>\n",
       "  </thead>\n",
       "  <tbody>\n",
       "    <tr>\n",
       "      <th>0</th>\n",
       "      <td>1000184</td>\n",
       "      <td>SAP AG</td>\n",
       "      <td>SC 13D</td>\n",
       "      <td>2012-02-23</td>\n",
       "      <td>edgar/data/1000184/0001193125-12-075270.txt</td>\n",
       "      <td>2012</td>\n",
       "      <td>1402305</td>\n",
       "      <td>0</td>\n",
       "    </tr>\n",
       "    <tr>\n",
       "      <th>1</th>\n",
       "      <td>1001316</td>\n",
       "      <td>MANHATTAN PHARMACEUTICALS INC</td>\n",
       "      <td>SC 13D</td>\n",
       "      <td>2012-01-10</td>\n",
       "      <td>edgar/data/1001316/0001144204-12-001440.txt</td>\n",
       "      <td>2012</td>\n",
       "      <td>1001316</td>\n",
       "      <td>1</td>\n",
       "    </tr>\n",
       "    <tr>\n",
       "      <th>2</th>\n",
       "      <td>1001601</td>\n",
       "      <td>MGT CAPITAL INVESTMENTS INC</td>\n",
       "      <td>SC 13D</td>\n",
       "      <td>2012-01-25</td>\n",
       "      <td>edgar/data/1001601/0001144204-12-003846.txt</td>\n",
       "      <td>2012</td>\n",
       "      <td>1001601</td>\n",
       "      <td>1</td>\n",
       "    </tr>\n",
       "    <tr>\n",
       "      <th>3</th>\n",
       "      <td>1002517</td>\n",
       "      <td>Nuance Communications, Inc.</td>\n",
       "      <td>SC 13D</td>\n",
       "      <td>2012-03-15</td>\n",
       "      <td>edgar/data/1002517/0001193125-12-117461.txt</td>\n",
       "      <td>2012</td>\n",
       "      <td>858452</td>\n",
       "      <td>0</td>\n",
       "    </tr>\n",
       "    <tr>\n",
       "      <th>4</th>\n",
       "      <td>1005758</td>\n",
       "      <td>IO World Media, Inc</td>\n",
       "      <td>SC 13D</td>\n",
       "      <td>2012-02-01</td>\n",
       "      <td>edgar/data/1005758/0001144204-12-005261.txt</td>\n",
       "      <td>2012</td>\n",
       "      <td>1005758</td>\n",
       "      <td>1</td>\n",
       "    </tr>\n",
       "  </tbody>\n",
       "</table>\n",
       "</div>"
      ],
      "text/plain": [
       "       CIK                   Company Name Form Type  Date Filed  \\\n",
       "0  1000184                         SAP AG    SC 13D  2012-02-23   \n",
       "1  1001316  MANHATTAN PHARMACEUTICALS INC    SC 13D  2012-01-10   \n",
       "2  1001601    MGT CAPITAL INVESTMENTS INC    SC 13D  2012-01-25   \n",
       "3  1002517    Nuance Communications, Inc.    SC 13D  2012-03-15   \n",
       "4  1005758            IO World Media, Inc    SC 13D  2012-02-01   \n",
       "\n",
       "                                      Filename  Year  CIK_target  Target  \n",
       "0  edgar/data/1000184/0001193125-12-075270.txt  2012     1402305       0  \n",
       "1  edgar/data/1001316/0001144204-12-001440.txt  2012     1001316       1  \n",
       "2  edgar/data/1001601/0001144204-12-003846.txt  2012     1001601       1  \n",
       "3  edgar/data/1002517/0001193125-12-117461.txt  2012      858452       0  \n",
       "4  edgar/data/1005758/0001144204-12-005261.txt  2012     1005758       1  "
      ]
     },
     "execution_count": 9,
     "metadata": {},
     "output_type": "execute_result"
    }
   ],
   "source": [
    "f13_1216.head()"
   ]
  },
  {
   "cell_type": "code",
   "execution_count": 3,
   "metadata": {
    "slideshow": {
     "slide_type": "slide"
    }
   },
   "outputs": [],
   "source": [
    "ff = f13_1216[f13_1216.CIK==f13_1216.CIK_target]"
   ]
  },
  {
   "cell_type": "code",
   "execution_count": 13,
   "metadata": {
    "scrolled": true,
    "slideshow": {
     "slide_type": "fragment"
    }
   },
   "outputs": [
    {
     "data": {
      "text/plain": [
       "(7422, 9)"
      ]
     },
     "execution_count": 13,
     "metadata": {},
     "output_type": "execute_result"
    }
   ],
   "source": [
    "ff.shape"
   ]
  },
  {
   "cell_type": "code",
   "execution_count": 8,
   "metadata": {
    "slideshow": {
     "slide_type": "slide"
    }
   },
   "outputs": [],
   "source": [
    "ff['cum_acq'] = ff.groupby(['CIK','Year'])['Target'].cumsum()"
   ]
  },
  {
   "cell_type": "code",
   "execution_count": 9,
   "metadata": {
    "slideshow": {
     "slide_type": "fragment"
    }
   },
   "outputs": [],
   "source": [
    "ffu = ff[ff.cum_acq==1]"
   ]
  },
  {
   "cell_type": "code",
   "execution_count": 15,
   "metadata": {
    "slideshow": {
     "slide_type": "fragment"
    }
   },
   "outputs": [
    {
     "data": {
      "text/plain": [
       "(5101, 9)"
      ]
     },
     "execution_count": 15,
     "metadata": {},
     "output_type": "execute_result"
    }
   ],
   "source": [
    "ffu.shape"
   ]
  },
  {
   "cell_type": "markdown",
   "metadata": {
    "slideshow": {
     "slide_type": "slide"
    }
   },
   "source": [
    "# Merge"
   ]
  },
  {
   "cell_type": "code",
   "execution_count": 10,
   "metadata": {
    "slideshow": {
     "slide_type": "slide"
    }
   },
   "outputs": [],
   "source": [
    "me = pd.merge(compa,ffu,how='left',left_on='cik',right_on='CIK')"
   ]
  },
  {
   "cell_type": "code",
   "execution_count": 10,
   "metadata": {
    "scrolled": true,
    "slideshow": {
     "slide_type": "fragment"
    }
   },
   "outputs": [
    {
     "data": {
      "text/html": [
       "<div>\n",
       "<style scoped>\n",
       "    .dataframe tbody tr th:only-of-type {\n",
       "        vertical-align: middle;\n",
       "    }\n",
       "\n",
       "    .dataframe tbody tr th {\n",
       "        vertical-align: top;\n",
       "    }\n",
       "\n",
       "    .dataframe thead th {\n",
       "        text-align: right;\n",
       "    }\n",
       "</style>\n",
       "<table border=\"1\" class=\"dataframe\">\n",
       "  <thead>\n",
       "    <tr style=\"text-align: right;\">\n",
       "      <th></th>\n",
       "      <th>gvkey</th>\n",
       "      <th>fyear</th>\n",
       "      <th>datadate</th>\n",
       "      <th>cusip</th>\n",
       "      <th>conm</th>\n",
       "      <th>fyr</th>\n",
       "      <th>aqc</th>\n",
       "      <th>at</th>\n",
       "      <th>capx</th>\n",
       "      <th>ceq</th>\n",
       "      <th>...</th>\n",
       "      <th>end_date</th>\n",
       "      <th>CIK</th>\n",
       "      <th>Company Name</th>\n",
       "      <th>Form Type</th>\n",
       "      <th>Date Filed</th>\n",
       "      <th>Filename</th>\n",
       "      <th>Year</th>\n",
       "      <th>CIK_target</th>\n",
       "      <th>Target</th>\n",
       "      <th>cum_acq</th>\n",
       "    </tr>\n",
       "  </thead>\n",
       "  <tbody>\n",
       "    <tr>\n",
       "      <th>0</th>\n",
       "      <td>1004</td>\n",
       "      <td>2012.0</td>\n",
       "      <td>2013-05-31</td>\n",
       "      <td>000361105</td>\n",
       "      <td>AAR CORP</td>\n",
       "      <td>5.0</td>\n",
       "      <td>21.3</td>\n",
       "      <td>2136.9</td>\n",
       "      <td>37.6</td>\n",
       "      <td>918.6</td>\n",
       "      <td>...</td>\n",
       "      <td>2014-05-31</td>\n",
       "      <td>NaN</td>\n",
       "      <td>NaN</td>\n",
       "      <td>NaN</td>\n",
       "      <td>NaN</td>\n",
       "      <td>NaN</td>\n",
       "      <td>NaN</td>\n",
       "      <td>NaN</td>\n",
       "      <td>NaN</td>\n",
       "      <td>NaN</td>\n",
       "    </tr>\n",
       "    <tr>\n",
       "      <th>1</th>\n",
       "      <td>1004</td>\n",
       "      <td>2013.0</td>\n",
       "      <td>2014-05-31</td>\n",
       "      <td>000361105</td>\n",
       "      <td>AAR CORP</td>\n",
       "      <td>5.0</td>\n",
       "      <td>15.3</td>\n",
       "      <td>2199.5</td>\n",
       "      <td>26.5</td>\n",
       "      <td>999.5</td>\n",
       "      <td>...</td>\n",
       "      <td>2015-05-31</td>\n",
       "      <td>NaN</td>\n",
       "      <td>NaN</td>\n",
       "      <td>NaN</td>\n",
       "      <td>NaN</td>\n",
       "      <td>NaN</td>\n",
       "      <td>NaN</td>\n",
       "      <td>NaN</td>\n",
       "      <td>NaN</td>\n",
       "      <td>NaN</td>\n",
       "    </tr>\n",
       "    <tr>\n",
       "      <th>2</th>\n",
       "      <td>1004</td>\n",
       "      <td>2014.0</td>\n",
       "      <td>2015-05-31</td>\n",
       "      <td>000361105</td>\n",
       "      <td>AAR CORP</td>\n",
       "      <td>5.0</td>\n",
       "      <td>1.0</td>\n",
       "      <td>1515.0</td>\n",
       "      <td>46.3</td>\n",
       "      <td>845.1</td>\n",
       "      <td>...</td>\n",
       "      <td>2016-05-31</td>\n",
       "      <td>NaN</td>\n",
       "      <td>NaN</td>\n",
       "      <td>NaN</td>\n",
       "      <td>NaN</td>\n",
       "      <td>NaN</td>\n",
       "      <td>NaN</td>\n",
       "      <td>NaN</td>\n",
       "      <td>NaN</td>\n",
       "      <td>NaN</td>\n",
       "    </tr>\n",
       "    <tr>\n",
       "      <th>3</th>\n",
       "      <td>1004</td>\n",
       "      <td>2015.0</td>\n",
       "      <td>2016-05-31</td>\n",
       "      <td>000361105</td>\n",
       "      <td>AAR CORP</td>\n",
       "      <td>5.0</td>\n",
       "      <td>0.0</td>\n",
       "      <td>1442.1</td>\n",
       "      <td>88.4</td>\n",
       "      <td>865.8</td>\n",
       "      <td>...</td>\n",
       "      <td>2017-05-31</td>\n",
       "      <td>NaN</td>\n",
       "      <td>NaN</td>\n",
       "      <td>NaN</td>\n",
       "      <td>NaN</td>\n",
       "      <td>NaN</td>\n",
       "      <td>NaN</td>\n",
       "      <td>NaN</td>\n",
       "      <td>NaN</td>\n",
       "      <td>NaN</td>\n",
       "    </tr>\n",
       "    <tr>\n",
       "      <th>4</th>\n",
       "      <td>1004</td>\n",
       "      <td>2016.0</td>\n",
       "      <td>2017-05-31</td>\n",
       "      <td>000361105</td>\n",
       "      <td>AAR CORP</td>\n",
       "      <td>5.0</td>\n",
       "      <td>12.5</td>\n",
       "      <td>1504.1</td>\n",
       "      <td>33.6</td>\n",
       "      <td>914.2</td>\n",
       "      <td>...</td>\n",
       "      <td>2018-05-31</td>\n",
       "      <td>NaN</td>\n",
       "      <td>NaN</td>\n",
       "      <td>NaN</td>\n",
       "      <td>NaN</td>\n",
       "      <td>NaN</td>\n",
       "      <td>NaN</td>\n",
       "      <td>NaN</td>\n",
       "      <td>NaN</td>\n",
       "      <td>NaN</td>\n",
       "    </tr>\n",
       "  </tbody>\n",
       "</table>\n",
       "<p>5 rows × 50 columns</p>\n",
       "</div>"
      ],
      "text/plain": [
       "   gvkey   fyear   datadate      cusip      conm  fyr   aqc      at  capx  \\\n",
       "0   1004  2012.0 2013-05-31  000361105  AAR CORP  5.0  21.3  2136.9  37.6   \n",
       "1   1004  2013.0 2014-05-31  000361105  AAR CORP  5.0  15.3  2199.5  26.5   \n",
       "2   1004  2014.0 2015-05-31  000361105  AAR CORP  5.0   1.0  1515.0  46.3   \n",
       "3   1004  2015.0 2016-05-31  000361105  AAR CORP  5.0   0.0  1442.1  88.4   \n",
       "4   1004  2016.0 2017-05-31  000361105  AAR CORP  5.0  12.5  1504.1  33.6   \n",
       "\n",
       "     ceq   ...       end_date  CIK  Company Name  Form Type  Date Filed  \\\n",
       "0  918.6   ...     2014-05-31  NaN           NaN        NaN         NaN   \n",
       "1  999.5   ...     2015-05-31  NaN           NaN        NaN         NaN   \n",
       "2  845.1   ...     2016-05-31  NaN           NaN        NaN         NaN   \n",
       "3  865.8   ...     2017-05-31  NaN           NaN        NaN         NaN   \n",
       "4  914.2   ...     2018-05-31  NaN           NaN        NaN         NaN   \n",
       "\n",
       "   Filename  Year  CIK_target  Target  cum_acq  \n",
       "0       NaN   NaN         NaN     NaN      NaN  \n",
       "1       NaN   NaN         NaN     NaN      NaN  \n",
       "2       NaN   NaN         NaN     NaN      NaN  \n",
       "3       NaN   NaN         NaN     NaN      NaN  \n",
       "4       NaN   NaN         NaN     NaN      NaN  \n",
       "\n",
       "[5 rows x 50 columns]"
      ]
     },
     "execution_count": 10,
     "metadata": {},
     "output_type": "execute_result"
    }
   ],
   "source": [
    "me.head()"
   ]
  },
  {
   "cell_type": "code",
   "execution_count": 18,
   "metadata": {
    "slideshow": {
     "slide_type": "fragment"
    }
   },
   "outputs": [
    {
     "data": {
      "text/plain": [
       "(68084, 50)"
      ]
     },
     "execution_count": 18,
     "metadata": {},
     "output_type": "execute_result"
    }
   ],
   "source": [
    "me.shape"
   ]
  },
  {
   "cell_type": "code",
   "execution_count": 11,
   "metadata": {
    "slideshow": {
     "slide_type": "slide"
    }
   },
   "outputs": [],
   "source": [
    "me.end_date = pd.DatetimeIndex(me.end_date)\n",
    "me['Date Filed'] = pd.DatetimeIndex(me['Date Filed'])"
   ]
  },
  {
   "cell_type": "code",
   "execution_count": 12,
   "metadata": {
    "slideshow": {
     "slide_type": "fragment"
    }
   },
   "outputs": [],
   "source": [
    "me['target'] = (me['Date Filed']>=me.datadate)&(me['Date Filed']<=me.end_date)"
   ]
  },
  {
   "cell_type": "code",
   "execution_count": 21,
   "metadata": {
    "slideshow": {
     "slide_type": "fragment"
    }
   },
   "outputs": [
    {
     "data": {
      "text/plain": [
       "2809"
      ]
     },
     "execution_count": 21,
     "metadata": {},
     "output_type": "execute_result"
    }
   ],
   "source": [
    "me.target.sum()"
   ]
  },
  {
   "cell_type": "code",
   "execution_count": 21,
   "metadata": {
    "scrolled": false,
    "slideshow": {
     "slide_type": "fragment"
    }
   },
   "outputs": [
    {
     "data": {
      "text/plain": [
       "False    65275\n",
       "True      2809\n",
       "Name: target, dtype: int64"
      ]
     },
     "execution_count": 21,
     "metadata": {},
     "output_type": "execute_result"
    }
   ],
   "source": [
    "me.target.value_counts()"
   ]
  },
  {
   "cell_type": "code",
   "execution_count": 53,
   "metadata": {},
   "outputs": [
    {
     "data": {
      "text/plain": [
       "0.04303332056683263"
      ]
     },
     "execution_count": 53,
     "metadata": {},
     "output_type": "execute_result"
    }
   ],
   "source": [
    "2809/65275"
   ]
  },
  {
   "cell_type": "markdown",
   "metadata": {
    "slideshow": {
     "slide_type": "slide"
    }
   },
   "source": [
    "# Data cleaning for machine learning models"
   ]
  },
  {
   "cell_type": "code",
   "execution_count": 13,
   "metadata": {
    "slideshow": {
     "slide_type": "slide"
    }
   },
   "outputs": [],
   "source": [
    "me.fillna(0,inplace=True)"
   ]
  },
  {
   "cell_type": "code",
   "execution_count": 14,
   "metadata": {
    "slideshow": {
     "slide_type": "slide"
    }
   },
   "outputs": [],
   "source": [
    "dfd = me.drop(columns = ['target',\\\n",
    "                       'CIK','Company Name','Form Type','Date Filed','Filename','CIK_target','Year','Target','cum_acq',\\\n",
    "                      'end_date','gvkey','datadate','cusip',\\\n",
    "                      'conm','fyr','county','addzip','sich','naicsh','incorp',\\\n",
    "                      'fyear','state','au','gsector','gind','gsubind','ggroup'])"
   ]
  },
  {
   "cell_type": "code",
   "execution_count": 15,
   "metadata": {
    "slideshow": {
     "slide_type": "slide"
    }
   },
   "outputs": [],
   "source": [
    "#normalization\n",
    "from sklearn.preprocessing import scale\n",
    "dfs = pd.DataFrame(scale(dfd))"
   ]
  },
  {
   "cell_type": "code",
   "execution_count": 25,
   "metadata": {
    "slideshow": {
     "slide_type": "skip"
    }
   },
   "outputs": [
    {
     "data": {
      "text/plain": [
       "(68084, 23)"
      ]
     },
     "execution_count": 25,
     "metadata": {},
     "output_type": "execute_result"
    }
   ],
   "source": [
    "dfs.shape"
   ]
  },
  {
   "cell_type": "code",
   "execution_count": 16,
   "metadata": {
    "slideshow": {
     "slide_type": "slide"
    }
   },
   "outputs": [],
   "source": [
    "dfdum = me.loc[:,['fyear','state','au','gsector','gind','gsubind','ggroup']]"
   ]
  },
  {
   "cell_type": "code",
   "execution_count": 17,
   "metadata": {
    "slideshow": {
     "slide_type": "fragment"
    }
   },
   "outputs": [],
   "source": [
    "dfm= pd.concat([dfs,dfdum],axis=1, join_axes=[dfs.index])"
   ]
  },
  {
   "cell_type": "code",
   "execution_count": 28,
   "metadata": {
    "slideshow": {
     "slide_type": "fragment"
    }
   },
   "outputs": [
    {
     "data": {
      "text/plain": [
       "(68084, 30)"
      ]
     },
     "execution_count": 28,
     "metadata": {},
     "output_type": "execute_result"
    }
   ],
   "source": [
    "dfm.shape"
   ]
  },
  {
   "cell_type": "code",
   "execution_count": 20,
   "metadata": {
    "slideshow": {
     "slide_type": "slide"
    }
   },
   "outputs": [],
   "source": [
    "#get dummies\n",
    "dfm = pd.get_dummies(dfm,columns=['fyear','state','au','gsector','gind','gsubind','ggroup'])"
   ]
  },
  {
   "cell_type": "code",
   "execution_count": 30,
   "metadata": {
    "scrolled": false,
    "slideshow": {
     "slide_type": "fragment"
    }
   },
   "outputs": [
    {
     "data": {
      "text/plain": [
       "(68084, 399)"
      ]
     },
     "execution_count": 30,
     "metadata": {},
     "output_type": "execute_result"
    }
   ],
   "source": [
    "dfm.shape"
   ]
  },
  {
   "cell_type": "markdown",
   "metadata": {
    "slideshow": {
     "slide_type": "slide"
    }
   },
   "source": [
    "PCA"
   ]
  },
  {
   "cell_type": "code",
   "execution_count": 18,
   "metadata": {
    "slideshow": {
     "slide_type": "slide"
    }
   },
   "outputs": [],
   "source": [
    "from sklearn import decomposition"
   ]
  },
  {
   "cell_type": "code",
   "execution_count": 21,
   "metadata": {
    "slideshow": {
     "slide_type": "fragment"
    }
   },
   "outputs": [
    {
     "name": "stdout",
     "output_type": "stream",
     "text": [
      "(68084, 50)\n"
     ]
    }
   ],
   "source": [
    "pca = decomposition.PCA(n_components=50)\n",
    "pca.fit(dfm)\n",
    "R = pca.transform(dfm)\n",
    "print(R.shape)"
   ]
  },
  {
   "cell_type": "code",
   "execution_count": 21,
   "metadata": {
    "collapsed": true,
    "slideshow": {
     "slide_type": "slide"
    }
   },
   "outputs": [
    {
     "data": {
      "text/plain": [
       "array([0.28603183, 0.09405934, 0.05557524, 0.05046558, 0.04736347,\n",
       "       0.03623506, 0.03419648, 0.03048374, 0.02811791, 0.0235764 ,\n",
       "       0.02112254, 0.01735084, 0.01670296, 0.01594085, 0.01388994,\n",
       "       0.01176646, 0.01129486, 0.00849687, 0.00797361, 0.00746591,\n",
       "       0.00711318, 0.00699736, 0.00684508, 0.00671618, 0.00656882,\n",
       "       0.00625677, 0.00609391, 0.00598718, 0.00498754, 0.00484507,\n",
       "       0.00431412, 0.00421332, 0.00414678, 0.0039361 , 0.00387576,\n",
       "       0.00379011, 0.00368583, 0.00338904, 0.00323593, 0.00295908,\n",
       "       0.00290048, 0.00272105, 0.00237119, 0.0023253 , 0.00223927,\n",
       "       0.00215752, 0.0019979 , 0.00177769, 0.00175316, 0.00170312])"
      ]
     },
     "execution_count": 21,
     "metadata": {},
     "output_type": "execute_result"
    }
   ],
   "source": [
    "pca.explained_variance_ratio_"
   ]
  },
  {
   "cell_type": "code",
   "execution_count": 22,
   "metadata": {
    "slideshow": {
     "slide_type": "skip"
    }
   },
   "outputs": [],
   "source": [
    "a=[0.28603183, 0.09405934, 0.05557524, 0.05046558, 0.04736347,\n",
    "       0.03623506, 0.03419648, 0.03048374, 0.02811791, 0.0235764 ,\n",
    "       0.02112254, 0.01735084, 0.01670296, 0.01594085, 0.01388994,\n",
    "       0.01176646, 0.01129486, 0.00849687, 0.00797361, 0.00746591,\n",
    "       0.00711318, 0.00699736, 0.00684508, 0.00671618, 0.00656882,\n",
    "       0.00625677, 0.00609391, 0.00598718, 0.00498754, 0.00484507,\n",
    "       0.00431412, 0.00421332, 0.00414678, 0.0039361 , 0.00387576,\n",
    "       0.00379011, 0.00368583, 0.00338904, 0.00323593, 0.00295908,\n",
    "       0.00290048, 0.00272105, 0.00237119, 0.0023253 , 0.00223927,\n",
    "       0.00215752, 0.0019979 , 0.00177769, 0.00175316, 0.00170312]"
   ]
  },
  {
   "cell_type": "code",
   "execution_count": 23,
   "metadata": {
    "scrolled": true,
    "slideshow": {
     "slide_type": "fragment"
    }
   },
   "outputs": [
    {
     "data": {
      "text/plain": [
       "0.94001373"
      ]
     },
     "execution_count": 23,
     "metadata": {},
     "output_type": "execute_result"
    }
   ],
   "source": [
    "sum(a)"
   ]
  },
  {
   "cell_type": "code",
   "execution_count": 1,
   "metadata": {
    "slideshow": {
     "slide_type": "skip"
    }
   },
   "outputs": [],
   "source": [
    "#print(pd.DataFrame(pca.components_,columns=dfm.columns))"
   ]
  },
  {
   "cell_type": "markdown",
   "metadata": {
    "slideshow": {
     "slide_type": "slide"
    }
   },
   "source": [
    "# Models"
   ]
  },
  {
   "cell_type": "code",
   "execution_count": 22,
   "metadata": {
    "slideshow": {
     "slide_type": "skip"
    }
   },
   "outputs": [],
   "source": [
    "from sklearn.model_selection import train_test_split, cross_val_score\n",
    "from sklearn.linear_model import LogisticRegression\n",
    "from sklearn.metrics import accuracy_score, roc_auc_score, confusion_matrix, classification_report\n",
    "from sklearn import preprocessing"
   ]
  },
  {
   "cell_type": "code",
   "execution_count": 41,
   "metadata": {
    "slideshow": {
     "slide_type": "slide"
    }
   },
   "outputs": [],
   "source": [
    "X = R\n",
    "Y = me.target"
   ]
  },
  {
   "cell_type": "code",
   "execution_count": 42,
   "metadata": {
    "slideshow": {
     "slide_type": "slide"
    }
   },
   "outputs": [],
   "source": [
    "x_train, x_test, y_train, y_test = train_test_split(X, Y, test_size = 0.3, random_state = 0)"
   ]
  },
  {
   "cell_type": "code",
   "execution_count": 44,
   "metadata": {
    "slideshow": {
     "slide_type": "skip"
    }
   },
   "outputs": [],
   "source": [
    "## Keep original training data before SMOTE\n",
    "x_train0 = x_train\n",
    "y_train0 = y_train"
   ]
  },
  {
   "cell_type": "markdown",
   "metadata": {
    "slideshow": {
     "slide_type": "slide"
    }
   },
   "source": [
    "SMOTE"
   ]
  },
  {
   "cell_type": "code",
   "execution_count": 26,
   "metadata": {
    "slideshow": {
     "slide_type": "slide"
    }
   },
   "outputs": [],
   "source": [
    "from imblearn.combine import SMOTEENN"
   ]
  },
  {
   "cell_type": "code",
   "execution_count": 48,
   "metadata": {
    "slideshow": {
     "slide_type": "fragment"
    }
   },
   "outputs": [
    {
     "data": {
      "text/plain": [
       "(array([False,  True]), array([38454, 41934]))"
      ]
     },
     "execution_count": 48,
     "metadata": {},
     "output_type": "execute_result"
    }
   ],
   "source": [
    "#smote\n",
    "sme = SMOTEENN()\n",
    "x_train, y_train = sme.fit_sample(x_train, y_train)\n",
    "\n",
    "unique(y_train, return_counts=True)"
   ]
  },
  {
   "cell_type": "markdown",
   "metadata": {
    "slideshow": {
     "slide_type": "slide"
    }
   },
   "source": [
    "## LogisticRegression"
   ]
  },
  {
   "cell_type": "markdown",
   "metadata": {},
   "source": [
    "Use data before SMOTE"
   ]
  },
  {
   "cell_type": "code",
   "execution_count": 45,
   "metadata": {
    "scrolled": true,
    "slideshow": {
     "slide_type": "slide"
    }
   },
   "outputs": [
    {
     "data": {
      "text/plain": [
       "0.8266818569305748"
      ]
     },
     "execution_count": 45,
     "metadata": {},
     "output_type": "execute_result"
    }
   ],
   "source": [
    "from sklearn.linear_model import LogisticRegression\n",
    "logi0 = LogisticRegression()\n",
    "logi0.fit(x_train0, y_train0)\n",
    "\n",
    "pred_logi0 = logi.predict(x_train0)\n",
    "prob_logi0 = logi.predict_proba(x_train0)\n",
    "roc_auc_score(y_train0, prob_logi0[:, 1])"
   ]
  },
  {
   "cell_type": "code",
   "execution_count": 46,
   "metadata": {
    "scrolled": true
   },
   "outputs": [
    {
     "name": "stdout",
     "output_type": "stream",
     "text": [
      "[[45706     0]\n",
      " [ 1952     0]]\n"
     ]
    }
   ],
   "source": [
    "print(confusion_matrix(y_train0,pred_logi0))"
   ]
  },
  {
   "cell_type": "code",
   "execution_count": 47,
   "metadata": {},
   "outputs": [
    {
     "name": "stdout",
     "output_type": "stream",
     "text": [
      "              precision    recall  f1-score   support\n",
      "\n",
      "       False       0.96      1.00      0.98     45706\n",
      "        True       0.00      0.00      0.00      1952\n",
      "\n",
      "   micro avg       0.96      0.96      0.96     47658\n",
      "   macro avg       0.48      0.50      0.49     47658\n",
      "weighted avg       0.92      0.96      0.94     47658\n",
      "\n"
     ]
    }
   ],
   "source": [
    "print(classification_report(y_train0,pred_logi0))"
   ]
  },
  {
   "cell_type": "markdown",
   "metadata": {},
   "source": [
    "Use data after SMOTE"
   ]
  },
  {
   "cell_type": "code",
   "execution_count": 49,
   "metadata": {},
   "outputs": [
    {
     "data": {
      "text/plain": [
       "0.8122751240218542"
      ]
     },
     "execution_count": 49,
     "metadata": {},
     "output_type": "execute_result"
    }
   ],
   "source": [
    "logi = LogisticRegression()\n",
    "logi.fit(x_train, y_train)\n",
    "\n",
    "pred_logi = logi.predict(x_test)\n",
    "prob_logi = logi.predict_proba(x_test)\n",
    "roc_auc_score(y_test, prob_logi[:, 1])"
   ]
  },
  {
   "cell_type": "code",
   "execution_count": 50,
   "metadata": {},
   "outputs": [
    {
     "name": "stdout",
     "output_type": "stream",
     "text": [
      "[[12730  6839]\n",
      " [  118   739]]\n"
     ]
    }
   ],
   "source": [
    "print(confusion_matrix(y_test,pred_logi))"
   ]
  },
  {
   "cell_type": "code",
   "execution_count": 51,
   "metadata": {
    "scrolled": true,
    "slideshow": {
     "slide_type": "slide"
    }
   },
   "outputs": [
    {
     "name": "stdout",
     "output_type": "stream",
     "text": [
      "              precision    recall  f1-score   support\n",
      "\n",
      "       False       0.99      0.65      0.79     19569\n",
      "        True       0.10      0.86      0.18       857\n",
      "\n",
      "   micro avg       0.66      0.66      0.66     20426\n",
      "   macro avg       0.54      0.76      0.48     20426\n",
      "weighted avg       0.95      0.66      0.76     20426\n",
      "\n"
     ]
    }
   ],
   "source": [
    "print(classification_report(y_test,pred_logi))"
   ]
  },
  {
   "cell_type": "code",
   "execution_count": 27,
   "metadata": {
    "slideshow": {
     "slide_type": "skip"
    }
   },
   "outputs": [],
   "source": [
    "from sklearn.metrics import roc_curve, auc"
   ]
  },
  {
   "cell_type": "code",
   "execution_count": 28,
   "metadata": {
    "scrolled": false,
    "slideshow": {
     "slide_type": "slide"
    }
   },
   "outputs": [
    {
     "data": {
      "image/png": "[encoded data removed]",
      "text/plain": [
       "<Figure size 432x288 with 1 Axes>"
      ]
     },
     "metadata": {
      "needs_background": "light"
     },
     "output_type": "display_data"
    },
    {
     "name": "stdout",
     "output_type": "stream",
     "text": [
      "Area under curve (AUC):  0.8117537364272416\n"
     ]
    }
   ],
   "source": [
    "#ROC, AUC\n",
    "fpr, tpr, _ = roc_curve(y_test,prob_logi[:, 1])\n",
    "\n",
    "title('ROC curve')\n",
    "xlabel('FPR (Precision)')\n",
    "ylabel('TPR (Recall)')\n",
    "\n",
    "plot(fpr,tpr)\n",
    "plot((0,1), ls='dashed',color='black')\n",
    "plt.show()\n",
    "print('Area under curve (AUC): ', auc(fpr,tpr))"
   ]
  },
  {
   "cell_type": "markdown",
   "metadata": {
    "slideshow": {
     "slide_type": "slide"
    }
   },
   "source": [
    "## SVM"
   ]
  },
  {
   "cell_type": "code",
   "execution_count": 49,
   "metadata": {
    "scrolled": true,
    "slideshow": {
     "slide_type": "slide"
    }
   },
   "outputs": [
    {
     "data": {
      "text/plain": [
       "0.8061717169530811"
      ]
     },
     "execution_count": 49,
     "metadata": {},
     "output_type": "execute_result"
    }
   ],
   "source": [
    "from sklearn import svm\n",
    "models = svm.SVC(probability=True)\n",
    "models.fit(x_train, y_train)\n",
    "\n",
    "pred_svm = models.predict(x_test)\n",
    "prob_svm = models.predict_proba(x_test)\n",
    "roc_auc_score(y_test, prob_svm[:, 1])"
   ]
  },
  {
   "cell_type": "code",
   "execution_count": 42,
   "metadata": {
    "scrolled": false,
    "slideshow": {
     "slide_type": "slide"
    }
   },
   "outputs": [
    {
     "name": "stdout",
     "output_type": "stream",
     "text": [
      "              precision    recall  f1-score   support\n",
      "\n",
      "       False       0.99      0.63      0.77     19569\n",
      "        True       0.10      0.91      0.18       857\n",
      "\n",
      "   micro avg       0.64      0.64      0.64     20426\n",
      "   macro avg       0.55      0.77      0.47     20426\n",
      "weighted avg       0.96      0.64      0.75     20426\n",
      "\n"
     ]
    }
   ],
   "source": [
    "print(classification_report(y_test,pred_svm))"
   ]
  },
  {
   "cell_type": "code",
   "execution_count": 50,
   "metadata": {
    "slideshow": {
     "slide_type": "slide"
    }
   },
   "outputs": [
    {
     "data": {
      "image/png": "[encoded data removed]",
      "text/plain": [
       "<Figure size 432x288 with 1 Axes>"
      ]
     },
     "metadata": {
      "needs_background": "light"
     },
     "output_type": "display_data"
    },
    {
     "name": "stdout",
     "output_type": "stream",
     "text": [
      "Area under curve (AUC):  0.8061717169530811\n"
     ]
    }
   ],
   "source": [
    "fpr, tpr, _ = roc_curve(y_test, prob_svm[:, 1])\n",
    "\n",
    "title('ROC curve')\n",
    "xlabel('FPR (Precision)')\n",
    "ylabel('TPR (Recall)')\n",
    "\n",
    "plot(fpr,tpr)\n",
    "plot((0,1), ls='dashed',color='black')\n",
    "plt.show()\n",
    "print('Area under curve (AUC): ', auc(fpr,tpr))"
   ]
  },
  {
   "cell_type": "markdown",
   "metadata": {
    "slideshow": {
     "slide_type": "skip"
    }
   },
   "source": [
    "Bayes"
   ]
  },
  {
   "cell_type": "code",
   "execution_count": 86,
   "metadata": {
    "slideshow": {
     "slide_type": "skip"
    }
   },
   "outputs": [
    {
     "name": "stdout",
     "output_type": "stream",
     "text": [
      "              precision    recall  f1-score   support\n",
      "\n",
      "       False       0.99      0.21      0.35     19569\n",
      "        True       0.05      0.94      0.09       857\n",
      "\n",
      "   micro avg       0.24      0.24      0.24     20426\n",
      "   macro avg       0.52      0.58      0.22     20426\n",
      "weighted avg       0.95      0.24      0.33     20426\n",
      "\n"
     ]
    }
   ],
   "source": [
    "from sklearn.naive_bayes import GaussianNB as NB\n",
    "modelnb = NB()\n",
    "modelnb.fit(x_train, y_train)\n",
    "\n",
    "pred_nb = modelnb.predict(x_test)\n",
    "\n",
    "print(classification_report(y_test,pred_nb))"
   ]
  },
  {
   "cell_type": "code",
   "execution_count": 87,
   "metadata": {
    "slideshow": {
     "slide_type": "skip"
    }
   },
   "outputs": [
    {
     "data": {
      "image/png": "[encoded data removed]",
      "text/plain": [
       "<Figure size 432x288 with 1 Axes>"
      ]
     },
     "metadata": {
      "needs_background": "light"
     },
     "output_type": "display_data"
    },
    {
     "name": "stdout",
     "output_type": "stream",
     "text": [
      "Area under curve (AUC):  0.7531386859398808\n"
     ]
    }
   ],
   "source": [
    "y_score = modelnb.predict_proba(x_test)[:,1]\n",
    "fpr, tpr, _ = roc_curve(y_test, y_score)\n",
    "\n",
    "title('ROC curve')\n",
    "xlabel('FPR (Precision)')\n",
    "ylabel('TPR (Recall)')\n",
    "\n",
    "plot(fpr,tpr)\n",
    "plot((0,1), ls='dashed',color='black')\n",
    "plt.show()\n",
    "print('Area under curve (AUC): ', auc(fpr,tpr))"
   ]
  },
  {
   "cell_type": "markdown",
   "metadata": {
    "slideshow": {
     "slide_type": "skip"
    }
   },
   "source": [
    "RandomForest"
   ]
  },
  {
   "cell_type": "code",
   "execution_count": 88,
   "metadata": {
    "slideshow": {
     "slide_type": "skip"
    }
   },
   "outputs": [
    {
     "name": "stdout",
     "output_type": "stream",
     "text": [
      "              precision    recall  f1-score   support\n",
      "\n",
      "       False       0.97      0.89      0.93     19569\n",
      "        True       0.13      0.38      0.19       857\n",
      "\n",
      "   micro avg       0.86      0.86      0.86     20426\n",
      "   macro avg       0.55      0.63      0.56     20426\n",
      "weighted avg       0.93      0.86      0.90     20426\n",
      "\n"
     ]
    }
   ],
   "source": [
    "from sklearn.ensemble import RandomForestClassifier\n",
    "clf = RandomForestClassifier(n_estimators=10)\n",
    "clf = clf.fit(x_train,y_train)\n",
    "\n",
    "pred_ranf = clf.predict(x_test)\n",
    "\n",
    "print(classification_report(y_test,pred_ranf))"
   ]
  },
  {
   "cell_type": "code",
   "execution_count": 89,
   "metadata": {
    "scrolled": true,
    "slideshow": {
     "slide_type": "skip"
    }
   },
   "outputs": [
    {
     "data": {
      "image/png": "[encoded data removed]",
      "text/plain": [
       "<Figure size 432x288 with 1 Axes>"
      ]
     },
     "metadata": {
      "needs_background": "light"
     },
     "output_type": "display_data"
    },
    {
     "name": "stdout",
     "output_type": "stream",
     "text": [
      "Area under curve (AUC):  0.7704487958206467\n"
     ]
    }
   ],
   "source": [
    "y_score = clf.predict_proba(x_test)[:,1]\n",
    "fpr, tpr, _ = roc_curve(y_test, y_score)\n",
    "\n",
    "title('ROC curve')\n",
    "xlabel('FPR (Precision)')\n",
    "ylabel('TPR (Recall)')\n",
    "\n",
    "plot(fpr,tpr)\n",
    "plot((0,1), ls='dashed',color='black')\n",
    "plt.show()\n",
    "print('Area under curve (AUC): ', auc(fpr,tpr))"
   ]
  }
 ],
 "metadata": {
  "kernelspec": {
   "display_name": "Python 3",
   "language": "python",
   "name": "python3"
  },
  "language_info": {
   "codemirror_mode": {
    "name": "ipython",
    "version": 3
   },
   "file_extension": ".py",
   "mimetype": "text/x-python",
   "name": "python",
   "nbconvert_exporter": "python",
   "pygments_lexer": "ipython3",
   "version": "3.7.1"
  }
 },
 "nbformat": 4,
 "nbformat_minor": 2
}
